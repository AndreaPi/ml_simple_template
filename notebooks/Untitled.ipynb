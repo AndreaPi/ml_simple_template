{
 "cells": [
  {
   "cell_type": "markdown",
   "id": "03ea2fbd-3c4c-49ba-91c5-03dc863a1954",
   "metadata": {},
   "source": [
    "# Use Markdown for your cell"
   ]
  },
  {
   "cell_type": "code",
   "execution_count": 7,
   "id": "85498c5c-a610-4eaa-98d0-18a449fc1fc6",
   "metadata": {},
   "outputs": [],
   "source": [
    "import os, sys\n",
    "sys.path.append(os.path.join( \"..\",'src'))"
   ]
  },
  {
   "cell_type": "code",
   "execution_count": 8,
   "id": "240a2246-ff79-458d-854a-7adc13a14328",
   "metadata": {},
   "outputs": [
    {
     "data": {
      "text/plain": [
       "'FOOFOO'"
      ]
     },
     "execution_count": 8,
     "metadata": {},
     "output_type": "execute_result"
    }
   ],
   "source": [
    "from myfunctions import myfunction\n",
    "myfunction('foo').upper()"
   ]
  },
  {
   "cell_type": "code",
   "execution_count": null,
   "id": "fa9b4db0-70fb-4669-a869-a69db703547d",
   "metadata": {},
   "outputs": [],
   "source": []
  }
 ],
 "metadata": {
  "kernelspec": {
   "display_name": "Python 3",
   "language": "python",
   "name": "python3"
  },
  "language_info": {
   "codemirror_mode": {
    "name": "ipython",
    "version": 3
   },
   "file_extension": ".py",
   "mimetype": "text/x-python",
   "name": "python",
   "nbconvert_exporter": "python",
   "pygments_lexer": "ipython3",
   "version": "3.8.5"
  }
 },
 "nbformat": 4,
 "nbformat_minor": 5
}
